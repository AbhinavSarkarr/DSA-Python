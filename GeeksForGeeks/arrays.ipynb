{
 "cells": [
  {
   "cell_type": "markdown",
   "metadata": {},
   "source": [
    "Input: arr[] = [10, 20, 30, 40, 50] <br>\n",
    "Output: 10 30 50<br>\n",
    "Explanation: Print the first element (10), skip the second element (20), print the third element (30), skip the fourth element(40) and print the fifth element(50)."
   ]
  },
  {
   "cell_type": "code",
   "execution_count": 3,
   "metadata": {},
   "outputs": [
    {
     "name": "stdout",
     "output_type": "stream",
     "text": [
      "[10, 30, 50]\n"
     ]
    }
   ],
   "source": [
    "def alternate_numbers(arr):\n",
    "    arr2 = []\n",
    "    for i in range(0, len(arr), 2):\n",
    "        arr2.append(arr[i])\n",
    "    return arr2 \n",
    "\n",
    "arr = [10,20,30,40,50]\n",
    "print(alternate_numbers(arr))"
   ]
  },
  {
   "cell_type": "markdown",
   "metadata": {},
   "source": [
    "Given an array, arr of n integers, and an integer element x, find whether element x is present in the array. Return the index of the first occurrence of x in the array, or -1 if it doesn’t exist."
   ]
  },
  {
   "cell_type": "code",
   "execution_count": 4,
   "metadata": {},
   "outputs": [
    {
     "name": "stdout",
     "output_type": "stream",
     "text": [
      "3\n"
     ]
    }
   ],
   "source": [
    "def search_elm(arr, k):\n",
    "    for i in range(len(arr)):\n",
    "        if arr[i] == k:\n",
    "            return i \n",
    "        \n",
    "    return -1 \n",
    "\n",
    "\n",
    "arr = [10,20,30,40,50]\n",
    "print(search_elm(arr, 40))"
   ]
  },
  {
   "cell_type": "markdown",
   "metadata": {},
   "source": [
    "Given an array arr[] of size n, the task is to find the largest element in the given array. "
   ]
  },
  {
   "cell_type": "code",
   "execution_count": 6,
   "metadata": {},
   "outputs": [
    {
     "name": "stdout",
     "output_type": "stream",
     "text": [
      "50\n"
     ]
    }
   ],
   "source": [
    "def largest_elm(arr):\n",
    "    largest = float('-inf')\n",
    "    for elm in arr:\n",
    "        if elm>largest:\n",
    "            largest = elm \n",
    "    \n",
    "    return largest\n",
    "\n",
    "arr = [10,20,30,40,50]\n",
    "print(largest_elm(arr))"
   ]
  },
  {
   "cell_type": "markdown",
   "metadata": {},
   "source": [
    "Given an array of positive integers arr[] of size n, the task is to find second largest distinct element in the array.\n",
    "\n",
    "Note: If the second largest element does not exist, return -1."
   ]
  },
  {
   "cell_type": "code",
   "execution_count": 8,
   "metadata": {},
   "outputs": [
    {
     "name": "stdout",
     "output_type": "stream",
     "text": [
      "40\n"
     ]
    }
   ],
   "source": [
    "def second_largest(arr):\n",
    "    largest = float('-inf')\n",
    "    second_largest = float('-inf')\n",
    "\n",
    "    for elm in arr:\n",
    "        if elm>largest:\n",
    "            second_largest = largest\n",
    "            largest = elm\n",
    "        \n",
    "        elif elm<largest and second_largest!=largest:\n",
    "            second_largest = elm\n",
    "        \n",
    "    return second_largest\n",
    "\n",
    "arr = [10,20,30,40,50]\n",
    "print(second_largest(arr))\n"
   ]
  },
  {
   "cell_type": "code",
   "execution_count": 15,
   "metadata": {},
   "outputs": [
    {
     "name": "stdout",
     "output_type": "stream",
     "text": [
      "[50, 40, 30]\n"
     ]
    }
   ],
   "source": [
    "def three_largest(arr):\n",
    "    largest = second_largest = third_largest = float('-inf')\n",
    "    lst = []\n",
    "    for elm in arr:\n",
    "        if elm>largest:\n",
    "            third_largest = second_largest\n",
    "            second_largest = largest\n",
    "            largest = elm \n",
    "\n",
    "        elif elm>second_largest and elm!=largest:\n",
    "            third_largest = second_largest\n",
    "            second_largest = elm \n",
    "        \n",
    "        elif elm>third_largest:\n",
    "            third_largest = elm \n",
    "        \n",
    "    lst.append(largest)\n",
    "    lst.append(second_largest)\n",
    "    lst.append(third_largest)\n",
    "\n",
    "    return lst\n",
    "\n",
    "arr = [10,20,30,40,50]\n",
    "print(three_largest(arr))\n",
    "        "
   ]
  },
  {
   "cell_type": "markdown",
   "metadata": {},
   "source": [
    "Given an array of size n, the task is to check if it is sorted in ascending order or not. Equal values are allowed in an array and two consecutive equal values are considered sorted."
   ]
  },
  {
   "cell_type": "code",
   "execution_count": 20,
   "metadata": {},
   "outputs": [
    {
     "name": "stdout",
     "output_type": "stream",
     "text": [
      "True\n",
      "False\n"
     ]
    }
   ],
   "source": [
    "def is_sorted(arr):\n",
    "    for i in range(len(arr)-1):\n",
    "        if arr[i]>arr[i+1]:\n",
    "            return False\n",
    "    return True\n",
    "\n",
    "arr = [10,20,30,40,50]\n",
    "print(is_sorted(arr))\n",
    "\n",
    "\n",
    "arr = [10,60,30,40,50]\n",
    "print(is_sorted(arr))\n",
    "        "
   ]
  },
  {
   "cell_type": "markdown",
   "metadata": {},
   "source": [
    "Given a sorted array arr[] of size n, the goal is to rearrange the array so that all distinct elements appear at the beginning in sorted order. Additionally, return the length of this distinct sorted subarray."
   ]
  },
  {
   "cell_type": "code",
   "execution_count": 26,
   "metadata": {},
   "outputs": [
    {
     "name": "stdout",
     "output_type": "stream",
     "text": [
      "5\n",
      "3\n"
     ]
    }
   ],
   "source": [
    "def remove_duplicates(arr):\n",
    "    i = 0 \n",
    "    for j in range(len(arr)):\n",
    "        if arr[j]!=arr[i]:\n",
    "            i += 1\n",
    "            arr[i] = arr[j]\n",
    "    return i+1\n",
    "\n",
    "arr = [10,60,30,40,50]\n",
    "print(remove_duplicates(arr))\n",
    "\n",
    "arr = [10,60,60,40,40]\n",
    "print(remove_duplicates(arr))"
   ]
  },
  {
   "cell_type": "markdown",
   "metadata": {},
   "source": [
    "Given an array, generate all the possible subarrays of the given array using recursion."
   ]
  },
  {
   "cell_type": "code",
   "execution_count": 30,
   "metadata": {},
   "outputs": [
    {
     "name": "stdout",
     "output_type": "stream",
     "text": [
      "[[10], [10, 20], [10, 20, 30], [10, 20, 30, 40], [10, 20, 30, 40, 50], [20], [20, 30], [20, 30, 40], [20, 30, 40, 50], [30], [30, 40], [30, 40, 50], [40], [40, 50], [50]]\n"
     ]
    }
   ],
   "source": [
    "def create_subarrays(arr):\n",
    "    subarrays = []\n",
    "    for i in range(len(arr)):\n",
    "        for j in range(i+1, len(arr)+1):\n",
    "            subarrays.append(arr[i:j])\n",
    "    return subarrays\n",
    "\n",
    "arr = [10,20,30,40,50]\n",
    "print(create_subarrays(arr))"
   ]
  },
  {
   "cell_type": "markdown",
   "metadata": {},
   "source": [
    "Given an array arr[], the task is to reverse the array. Reversing an array means rearranging the elements such that the first element becomes the last, the second element becomes second last and so on."
   ]
  },
  {
   "cell_type": "code",
   "execution_count": 33,
   "metadata": {},
   "outputs": [
    {
     "name": "stdout",
     "output_type": "stream",
     "text": [
      "[50, 40, 30, 20, 10]\n"
     ]
    }
   ],
   "source": [
    "def reverse_array(arr, start, end):\n",
    "    i = start\n",
    "    j = end\n",
    "\n",
    "    while(i<j):\n",
    "        arr[i], arr[j] = arr[j], arr[i]\n",
    "        i+=1\n",
    "        j-=1\n",
    "    \n",
    "    return arr\n",
    "\n",
    "arr = [10,20,30,40,50]\n",
    "print(reverse_array(arr, 0, len(arr)-1))"
   ]
  },
  {
   "cell_type": "markdown",
   "metadata": {},
   "source": [
    "Rotate an Array – Clockwise or Right"
   ]
  },
  {
   "cell_type": "code",
   "execution_count": 42,
   "metadata": {},
   "outputs": [
    {
     "name": "stdout",
     "output_type": "stream",
     "text": [
      "[30, 40, 50, 10, 20]\n",
      "[30, 40, 50, 10, 20]\n"
     ]
    }
   ],
   "source": [
    "def rotate_array(arr, k):\n",
    "    n = len(arr)\n",
    "    k = k%n\n",
    "    reverse_array(arr, 0, n-1)\n",
    "    reverse_array(arr, 0, k-1)\n",
    "    reverse_array(arr, k, n-1)\n",
    "\n",
    "    return arr\n",
    "\n",
    "#or\n",
    "\n",
    "def rotate_array_slicing(arr, k):\n",
    "    n = len(arr)\n",
    "    k = k%n\n",
    "\n",
    "    return arr[k-1:n]+arr[0:k-1]\n",
    "\n",
    "arr = [10,20,30,40,50]\n",
    "print(rotate_array(arr, 3))\n",
    "\n",
    "arr = [10,20,30,40,50]\n",
    "print(rotate_array_slicing(arr, 3))"
   ]
  },
  {
   "cell_type": "markdown",
   "metadata": {},
   "source": [
    "Given an array of integers arr[], the task is to move all the zeros to the end of the array while maintaining the relative order of all non-zero elements."
   ]
  },
  {
   "cell_type": "code",
   "execution_count": 44,
   "metadata": {},
   "outputs": [
    {
     "name": "stdout",
     "output_type": "stream",
     "text": [
      "[1, 2, 4, 3, 5, 0, 0, 0]\n"
     ]
    }
   ],
   "source": [
    "def move_zeroes(arr):\n",
    "    i = 0 \n",
    "    for j in arr:\n",
    "        if j != 0:\n",
    "            arr[i] = j\n",
    "            i+=1\n",
    "    for k in range(i, len(arr)-1):\n",
    "        arr[k] = 0\n",
    "    \n",
    "    return arr\n",
    "\n",
    "arr = [1, 2, 0, 4, 3, 0, 5, 0]\n",
    "print(move_zeroes(arr))"
   ]
  },
  {
   "cell_type": "code",
   "execution_count": null,
   "metadata": {},
   "outputs": [],
   "source": []
  }
 ],
 "metadata": {
  "kernelspec": {
   "display_name": "Python 3",
   "language": "python",
   "name": "python3"
  },
  "language_info": {
   "codemirror_mode": {
    "name": "ipython",
    "version": 3
   },
   "file_extension": ".py",
   "mimetype": "text/x-python",
   "name": "python",
   "nbconvert_exporter": "python",
   "pygments_lexer": "ipython3",
   "version": "3.10.12"
  }
 },
 "nbformat": 4,
 "nbformat_minor": 2
}
